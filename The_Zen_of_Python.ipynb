{
 "cells": [
  {
   "cell_type": "code",
   "execution_count": 1,
   "metadata": {},
   "outputs": [
    {
     "name": "stdout",
     "output_type": "stream",
     "text": [
      "The Zen of Python, by Tim Peters\n",
      "\n",
      "Beautiful is better than ugly.\n",
      "Explicit is better than implicit.\n",
      "Simple is better than complex.\n",
      "Complex is better than complicated.\n",
      "Flat is better than nested.\n",
      "Sparse is better than dense.\n",
      "Readability counts.\n",
      "Special cases aren't special enough to break the rules.\n",
      "Although practicality beats purity.\n",
      "Errors should never pass silently.\n",
      "Unless explicitly silenced.\n",
      "In the face of ambiguity, refuse the temptation to guess.\n",
      "There should be one-- and preferably only one --obvious way to do it.\n",
      "Although that way may not be obvious at first unless you're Dutch.\n",
      "Now is better than never.\n",
      "Although never is often better than *right* now.\n",
      "If the implementation is hard to explain, it's a bad idea.\n",
      "If the implementation is easy to explain, it may be a good idea.\n",
      "Namespaces are one honking great idea -- let's do more of those!\n"
     ]
    }
   ],
   "source": [
    "import this"
   ]
  },
  {
   "cell_type": "markdown",
   "metadata": {},
   "source": [
    "\n",
    "\n",
    "Текст философии Python в переводе на русский язык.\n",
    "\n",
    "Красивое лучше, чем уродливое.\n",
    "Явное лучше, чем неявное.\n",
    "Простое лучше, чем сложное.\n",
    "Сложное лучше, чем запутанное.\n",
    "Плоское лучше, чем вложенное.\n",
    "Разреженное лучше, чем плотное.\n",
    "Читаемость имеет значение.\n",
    "Особые случаи не настолько особые, чтобы нарушать правила.\n",
    "При этом практичность важнее безупречности.\n",
    "Ошибки никогда не должны замалчиваться.\n",
    "Если они не замалчиваются явно.\n",
    "Встретив двусмысленность, отбрось искушение угадать.\n",
    "Должен существовать один и, желательно, только один очевидный способ сделать это.\n",
    "Хотя он поначалу может быть и не очевиден, если вы не голландец.\n",
    "Сейчас лучше, чем никогда.\n",
    "Хотя никогда зачастую лучше, чем прямо сейчас.\n",
    "Если реализацию сложно объяснить — идея плоха.\n",
    "Если реализацию легко объяснить — идея, возможно, хороша.\n",
    "Пространства имён — отличная штука! Будем делать их больше!"
   ]
  }
 ],
 "metadata": {
  "kernelspec": {
   "display_name": "Python 3",
   "language": "python",
   "name": "python3"
  },
  "language_info": {
   "codemirror_mode": {
    "name": "ipython",
    "version": 3
   },
   "file_extension": ".py",
   "mimetype": "text/x-python",
   "name": "python",
   "nbconvert_exporter": "python",
   "pygments_lexer": "ipython3",
   "version": "3.7.0"
  }
 },
 "nbformat": 4,
 "nbformat_minor": 4
}
